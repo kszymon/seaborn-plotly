{
  "nbformat": 4,
  "nbformat_minor": 0,
  "metadata": {
    "colab": {
      "provenance": [],
      "authorship_tag": "ABX9TyPZPIMaIHG66QmaOMLSu9Zu",
      "include_colab_link": true
    },
    "kernelspec": {
      "name": "python3",
      "display_name": "Python 3"
    },
    "language_info": {
      "name": "python"
    }
  },
  "cells": [
    {
      "cell_type": "markdown",
      "metadata": {
        "id": "view-in-github",
        "colab_type": "text"
      },
      "source": [
        "<a href=\"https://colab.research.google.com/github/kszymon/seaborn-plotly/blob/main/plotly-tut/advanced%20/03_chart_studio.ipynb\" target=\"_parent\"><img src=\"https://colab.research.google.com/assets/colab-badge.svg\" alt=\"Open In Colab\"/></a>"
      ]
    },
    {
      "cell_type": "code",
      "execution_count": null,
      "metadata": {
        "id": "wldHbCLBRB60"
      },
      "outputs": [],
      "source": [
        "!pip install chart-studio\n",
        "!pip install -q --upgrade plotly"
      ]
    },
    {
      "cell_type": "code",
      "source": [
        "import chart_studio.tools as tls\n",
        "\n",
        "tls.embed('https://plot.ly/link')"
      ],
      "metadata": {
        "id": "pwHG3GzvRTjo"
      },
      "execution_count": null,
      "outputs": []
    },
    {
      "cell_type": "code",
      "source": [
        "import chart_studio.tools as tls\n",
        "import chart_studio.plotly as py\n",
        "import plotly.graph_objects as go\n",
        "\n",
        "tls.set_credentials_file(username='myusername', api_key='my_api_key')\n",
        "\n",
        "trace0 = go.Scatter(x=[1, 2, 3, 4],\n",
        "                   y=[5, 5, 10, 15])\n",
        "\n",
        "data = [trace0]\n",
        "\n",
        "fig = go.Figure(data=data)\n",
        "\n",
        "py.iplot(fig, filename='first')"
      ],
      "metadata": {
        "id": "lkh50vLoWt_D"
      },
      "execution_count": null,
      "outputs": []
    }
  ]
}